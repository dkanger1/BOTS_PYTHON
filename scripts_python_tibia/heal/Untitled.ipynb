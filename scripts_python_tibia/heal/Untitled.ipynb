{
 "cells": [
  {
   "cell_type": "code",
   "execution_count": 16,
   "id": "6146eff6",
   "metadata": {
    "scrolled": true
   },
   "outputs": [
    {
     "name": "stdout",
     "output_type": "stream",
     "text": [
      "26230\n",
      "26230\n",
      "26230\n",
      "26230\n",
      "26230\n",
      "26230\n",
      "26230\n",
      "26230\n",
      "26230\n",
      "26230\n",
      "26230\n",
      "26230\n",
      "26230\n",
      "26230\n",
      "26230\n",
      "26230\n",
      "24108\n",
      "24108\n",
      "24108\n",
      "24108\n",
      "24108\n",
      "24108\n",
      "24108\n",
      "24108\n",
      "24108\n",
      "24108\n",
      "24108\n",
      "24108\n",
      "24108\n",
      "24108\n",
      "24108\n",
      "24108\n",
      "24108\n",
      "24108\n",
      "24108\n",
      "24108\n",
      "23672\n",
      "22301\n",
      "21279\n",
      "21279\n",
      "21279\n",
      "21279\n",
      "21279\n",
      "21279\n",
      "21279\n",
      "21279\n",
      "21279\n",
      "21279\n",
      "21279\n",
      "21279\n",
      "21279\n",
      "21279\n",
      "21279\n",
      "21279\n",
      "21279\n",
      "21279\n",
      "21279\n",
      "21279\n",
      "21279\n",
      "Done.\n"
     ]
    }
   ],
   "source": [
    "import cv2\n",
    "import numpy as np\n",
    "import os\n",
    "from time import time , clock, sleep\n",
    "from windowcapture_tibia import WindowCapture\n",
    "from matplotlib import pyplot as plt\n",
    "import pyautogui\n",
    "\n",
    "def nothing(x):\n",
    "    pass\n",
    "# os.chdir(os.path.dirname(os.path.abspath(__file__)))\n",
    "\n",
    "# WindowCapture.list_window_names()\n",
    "# exit()\n",
    "# initialize the WindowCapture class\n",
    "wincap = WindowCapture('Tibia - Gaseificado')\n",
    "\n",
    "loop_time = time()\n",
    "# 32 135 - 1741 1845\n",
    "# pyautogui.click(pyautogui.locateOnScreen('imgs/bag.png',region=(748,331,200,405), confidence = 0.6))\n",
    "cv2.namedWindow(\"Trackbars\")\n",
    "cv2.createTrackbar(\"L-H\", \"Trackbars\", 0,180, nothing)\n",
    "cv2.createTrackbar(\"L-S\", \"Trackbars\", 67,255, nothing)\n",
    "cv2.createTrackbar(\"L-V\", \"Trackbars\", 77,255, nothing)\n",
    "cv2.createTrackbar(\"U-H\", \"Trackbars\", 15,180, nothing)\n",
    "cv2.createTrackbar(\"U-S\", \"Trackbars\", 255,255, nothing)\n",
    "cv2.createTrackbar(\"U-V\", \"Trackbars\", 255,255, nothing)\n",
    "\n",
    "cv2.namedWindow(\"Trackpixel\")\n",
    "cv2.createTrackbar(\"X1\", \"Trackpixel\", 331,600, nothing)\n",
    "cv2.createTrackbar(\"X2\", \"Trackpixel\", 530,800, nothing)\n",
    "cv2.createTrackbar(\"Y1\", \"Trackpixel\", 748,2000, nothing)\n",
    "cv2.createTrackbar(\"Y2\", \"Trackpixel\", 952,2500, nothing)\n",
    "cv2.createTrackbar(\"XAUX\", \"Trackpixel\", 80,100, nothing)\n",
    "cv2.createTrackbar(\"YAUX\", \"Trackpixel\", 126,200, nothing)\n",
    "while(True):\n",
    "    screenshot = wincap.get_screenshot()\n",
    "    #print('FPS {}'.format(1 / (time() - loop_time)))\n",
    "    loop_time = time()\n",
    "\n",
    "    l_h = cv2.getTrackbarPos(\"L-H\", \"Trackbars\")\n",
    "    l_s = cv2.getTrackbarPos(\"L-S\", \"Trackbars\")\n",
    "    l_v = cv2.getTrackbarPos(\"L-V\", \"Trackbars\")\n",
    "    u_h = cv2.getTrackbarPos(\"U-H\", \"Trackbars\")\n",
    "    u_s = cv2.getTrackbarPos(\"U-S\", \"Trackbars\")\n",
    "    u_v = cv2.getTrackbarPos(\"U-V\", \"Trackbars\")\n",
    "    x1 = cv2.getTrackbarPos(\"X1\", \"Trackpixel\")\n",
    "    x2 = cv2.getTrackbarPos(\"X2\", \"Trackpixel\")\n",
    "    y1 = cv2.getTrackbarPos(\"Y1\", \"Trackpixel\")\n",
    "    y2 = cv2.getTrackbarPos(\"Y2\", \"Trackpixel\")\n",
    "    xaux = cv2.getTrackbarPos(\"XAUX\", \"Trackpixel\")\n",
    "    yaux = cv2.getTrackbarPos(\"XAUX\", \"Trackpixel\")\n",
    "    x2 = x2 +  10\n",
    "    y2 = y2 +  10\n",
    "    lower_red = np.array([l_h, l_s, l_v])\n",
    "    upper_red = np.array([u_h, u_s, u_v])\n",
    "    battlecropped_image = screenshot[x1:x2, y1:y2]\n",
    "    cv2.imshow('battlecropped_image', battlecropped_image)\n",
    "    battlehsv = cv2.cvtColor(battlecropped_image, cv2.COLOR_BGR2HSV)\n",
    "    maskr = cv2.inRange(battlehsv, lower_red, upper_red)\n",
    "    cv2.imshow('maskr', maskr)\n",
    "    hppixels = cv2.countNonZero(maskr)\n",
    "    print(hppixels)\n",
    "    bfilter = cv2.bilateralFilter(maskr,11,17,17)\n",
    "    edged = cv2.Canny(bfilter, 30, 200)\n",
    "    cv2.imshow('edged', edged)\n",
    "\n",
    "    try:\n",
    "        contours, hierarchy = cv2.findContours(edged, cv2.RETR_EXTERNAL, cv2.CHAIN_APPROX_SIMPLE)\n",
    "        # print(contours)\n",
    "        location = None ## adap\n",
    "        # print(clock()%3)\n",
    "        if len(contours) != 0:\n",
    "            for contour in contours:\n",
    "                if cv2.contourArea(contour) > 10:\n",
    "                    x,y,w,h = cv2.boundingRect(contour)\n",
    "                    (xm,ym) = (np.min(x), np.min(y))\n",
    "                    center = (xm,ym)\n",
    "                    # if(clock()%3 < 0.2): \n",
    "                        # pyautogui.moveTo(y1+xm+xaux,ym+xq1+yaux)\n",
    "                        # pyautogui.click()\n",
    "    except:\n",
    "        pass\n",
    "\n",
    "\n",
    "    # vê se tem pixel\n",
    "    # battlepixels = cv2.countNonZero(maskr)\n",
    "    # print(battlepixels)\n",
    "\n",
    "\n",
    "    if cv2.waitKey(1) == ord('q'):\n",
    "        cv2.destroyAllWindows()\n",
    "        break\n",
    "\n",
    "print('Done.')"
   ]
  },
  {
   "cell_type": "code",
   "execution_count": 112,
   "id": "e7fcb7ed",
   "metadata": {},
   "outputs": [
    {
     "name": "stdout",
     "output_type": "stream",
     "text": [
      "None\n",
      "None\n",
      "None\n",
      "None\n",
      "None\n",
      "None\n"
     ]
    }
   ],
   "source": [
    "position = pyautogui.locateOnScreen('imgs/icon1.png',region=(1741,35,135,105), grayscale = True, confidence = 0.8)\n",
    "print(position)\n",
    "pyautogui.moveTo(position)\n",
    "\n",
    "position = pyautogui.locateOnScreen('imgs/icon2.png',region=(1741,35,135,105), confidence = 0.6)\n",
    "print(position)\n",
    "pyautogui.moveTo(position)\n",
    "\n",
    "position = pyautogui.locateOnScreen('imgs/icon3.png',region=(1741,35,135,105),  confidence = 0.6)\n",
    "print(position)\n",
    "pyautogui.moveTo(position)\n",
    "\n",
    "position = pyautogui.locateOnScreen('imgs/icon4.png',region=(1741,35,135,105), confidence = 0.6)\n",
    "pyautogui.moveTo(position)\n",
    "print(position)\n",
    "\n",
    "position = pyautogui.locateOnScreen('imgs/icon8.png',region=(1741,35,135,105), confidence = 0.6)\n",
    "print(position)\n",
    "pyautogui.moveTo(position)\n",
    "\n",
    "position = pyautogui.locateOnScreen('imgs/icon9.png',region=(1741,35,135,105), confidence = 0.6)\n",
    "print(position)\n",
    "pyautogui.moveTo(position)\n",
    "\n"
   ]
  },
  {
   "cell_type": "markdown",
   "id": "804186db",
   "metadata": {},
   "source": [
    "# "
   ]
  },
  {
   "cell_type": "code",
   "execution_count": 2,
   "id": "8ecd8bc3",
   "metadata": {},
   "outputs": [
    {
     "data": {
      "text/plain": [
       "Size(width=1920, height=1080)"
      ]
     },
     "execution_count": 2,
     "metadata": {},
     "output_type": "execute_result"
    }
   ],
   "source": [
    "pyautogui.size()"
   ]
  },
  {
   "cell_type": "code",
   "execution_count": 6,
   "id": "08b92c5c",
   "metadata": {},
   "outputs": [
    {
     "data": {
      "text/plain": [
       "Point(x=953, y=481)"
      ]
     },
     "execution_count": 6,
     "metadata": {},
     "output_type": "execute_result"
    }
   ],
   "source": [
    "pyautogui.position()"
   ]
  },
  {
   "cell_type": "code",
   "execution_count": 7,
   "id": "8f158e7a",
   "metadata": {},
   "outputs": [
    {
     "data": {
      "text/plain": [
       "Point(x=954, y=547)"
      ]
     },
     "execution_count": 7,
     "metadata": {},
     "output_type": "execute_result"
    }
   ],
   "source": [
    "pyautogui.position()"
   ]
  },
  {
   "cell_type": "code",
   "execution_count": 8,
   "id": "af510a27",
   "metadata": {},
   "outputs": [
    {
     "data": {
      "text/plain": [
       "Point(x=861, y=549)"
      ]
     },
     "execution_count": 8,
     "metadata": {},
     "output_type": "execute_result"
    }
   ],
   "source": [
    "pyautogui.position()"
   ]
  },
  {
   "cell_type": "code",
   "execution_count": 66,
   "id": "b036bd73",
   "metadata": {},
   "outputs": [],
   "source": [
    "sleep(1)\n",
    "pyautogui.keyDown('shift')\n",
    "pyautogui.click(x=944, y=385,button='right')\n",
    "pyautogui.click(x=846, y=394,button='right')\n",
    "pyautogui.click(x=783, y=392,button='right')\n",
    "pyautogui.click(x=785, y=459,button='right')\n",
    "pyautogui.click(x=789, y=553,button='right')\n",
    "pyautogui.click(x=861, y=549,button='right')\n",
    "pyautogui.click(x=954, y=547,button='right')\n",
    "pyautogui.click(x=953, y=481,button='right')\n",
    "pyautogui.keyUp('shift') \n"
   ]
  },
  {
   "cell_type": "code",
   "execution_count": null,
   "id": "9502cd86",
   "metadata": {},
   "outputs": [],
   "source": []
  }
 ],
 "metadata": {
  "kernelspec": {
   "display_name": "Python 3 (ipykernel)",
   "language": "python",
   "name": "python3"
  },
  "language_info": {
   "codemirror_mode": {
    "name": "ipython",
    "version": 3
   },
   "file_extension": ".py",
   "mimetype": "text/x-python",
   "name": "python",
   "nbconvert_exporter": "python",
   "pygments_lexer": "ipython3",
   "version": "3.7.7"
  }
 },
 "nbformat": 4,
 "nbformat_minor": 5
}
